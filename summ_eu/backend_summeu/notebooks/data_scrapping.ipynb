{
 "cells": [
  {
   "cell_type": "markdown",
   "id": "1795f6ab",
   "metadata": {},
   "source": [
    "## Import libraries"
   ]
  },
  {
   "cell_type": "code",
   "execution_count": 2,
   "id": "984c50f7",
   "metadata": {},
   "outputs": [],
   "source": [
    "%load_ext autoreload\n",
    "%autoreload 2\n",
    "import os\n",
    "from pprint import pprint\n",
    "from IPython.display import Markdown\n",
    "import requests"
   ]
  },
  {
   "cell_type": "code",
   "execution_count": 3,
   "id": "bcf3e936",
   "metadata": {},
   "outputs": [
    {
     "data": {
      "text/plain": [
       "True"
      ]
     },
     "execution_count": 3,
     "metadata": {},
     "output_type": "execute_result"
    }
   ],
   "source": [
    "from dotenv import load_dotenv\n",
    "\n",
    "load_dotenv()  # Load environment variables from .env file"
   ]
  },
  {
   "cell_type": "markdown",
   "id": "dc970afc",
   "metadata": {},
   "source": [
    "## Get the ID list of the last three sessions"
   ]
  },
  {
   "cell_type": "code",
   "execution_count": 4,
   "id": "8fae0d95",
   "metadata": {},
   "outputs": [
    {
     "data": {
      "text/plain": [
       "{'data': [{'id': 'eli/dl/doc/CRE-10-2025-03-31',\n",
       "   'type': 'Work',\n",
       "   'work_type': 'def/ep-document-types/CRE_PLENARY',\n",
       "   'identifier': 'CRE-10-2025-03-31',\n",
       "   'label': 'P10_CRE(2025)03-31'},\n",
       "  {'id': 'eli/dl/doc/CRE-10-2025-04-01',\n",
       "   'type': 'Work',\n",
       "   'work_type': 'def/ep-document-types/CRE_PLENARY',\n",
       "   'identifier': 'CRE-10-2025-04-01',\n",
       "   'label': 'P10_CRE(2025)04-01'},\n",
       "  {'id': 'eli/dl/doc/CRE-10-2025-04-02',\n",
       "   'type': 'Work',\n",
       "   'work_type': 'def/ep-document-types/CRE_PLENARY',\n",
       "   'identifier': 'CRE-10-2025-04-02',\n",
       "   'label': 'P10_CRE(2025)04-02'},\n",
       "  {'id': 'eli/dl/doc/CRE-10-2025-04-03',\n",
       "   'type': 'Work',\n",
       "   'work_type': 'def/ep-document-types/CRE_PLENARY',\n",
       "   'identifier': 'CRE-10-2025-04-03',\n",
       "   'label': 'P10_CRE(2025)04-03'},\n",
       "  {'id': 'eli/dl/doc/CRE-10-2025-05-05',\n",
       "   'type': 'Work',\n",
       "   'work_type': 'def/ep-document-types/CRE_PLENARY',\n",
       "   'identifier': 'CRE-10-2025-05-05',\n",
       "   'label': 'P10_CRE(2025)05-05'},\n",
       "  {'id': 'eli/dl/doc/CRE-10-2025-05-06',\n",
       "   'type': 'Work',\n",
       "   'work_type': 'def/ep-document-types/CRE_PLENARY',\n",
       "   'identifier': 'CRE-10-2025-05-06',\n",
       "   'label': 'P10_CRE(2025)05-06'},\n",
       "  {'id': 'eli/dl/doc/CRE-10-2025-05-07',\n",
       "   'type': 'Work',\n",
       "   'work_type': 'def/ep-document-types/CRE_PLENARY',\n",
       "   'identifier': 'CRE-10-2025-05-07',\n",
       "   'label': 'P10_CRE(2025)05-07'},\n",
       "  {'id': 'eli/dl/doc/CRE-10-2025-05-08',\n",
       "   'type': 'Work',\n",
       "   'work_type': 'def/ep-document-types/CRE_PLENARY',\n",
       "   'identifier': 'CRE-10-2025-05-08',\n",
       "   'label': 'P10_CRE(2025)05-08'},\n",
       "  {'id': 'eli/dl/doc/CRE-10-2025-05-21',\n",
       "   'type': 'Work',\n",
       "   'work_type': 'def/ep-document-types/CRE_PLENARY',\n",
       "   'identifier': 'CRE-10-2025-05-21',\n",
       "   'label': 'P10_CRE(2025)05-21'},\n",
       "  {'id': 'eli/dl/doc/CRE-10-2025-05-22',\n",
       "   'type': 'Work',\n",
       "   'work_type': 'def/ep-document-types/CRE_PLENARY',\n",
       "   'identifier': 'CRE-10-2025-05-22',\n",
       "   'label': 'P10_CRE(2025)05-22'},\n",
       "  {'id': 'eli/dl/doc/CRE-10-2025-06-16',\n",
       "   'type': 'Work',\n",
       "   'work_type': 'def/ep-document-types/CRE_PLENARY',\n",
       "   'identifier': 'CRE-10-2025-06-16',\n",
       "   'label': 'P10_CRE(2025)06-16'},\n",
       "  {'id': 'eli/dl/doc/CRE-10-2025-06-17',\n",
       "   'type': 'Work',\n",
       "   'work_type': 'def/ep-document-types/CRE_PLENARY',\n",
       "   'identifier': 'CRE-10-2025-06-17',\n",
       "   'label': 'P10_CRE(2025)06-17'},\n",
       "  {'id': 'eli/dl/doc/CRE-10-2025-06-18',\n",
       "   'type': 'Work',\n",
       "   'work_type': 'def/ep-document-types/CRE_PLENARY',\n",
       "   'identifier': 'CRE-10-2025-06-18',\n",
       "   'label': 'P10_CRE(2025)06-18'},\n",
       "  {'id': 'eli/dl/doc/CRE-10-2025-06-19',\n",
       "   'type': 'Work',\n",
       "   'work_type': 'def/ep-document-types/CRE_PLENARY',\n",
       "   'identifier': 'CRE-10-2025-06-19',\n",
       "   'label': 'P10_CRE(2025)06-19'},\n",
       "  {'id': 'eli/dl/doc/CRE-10-2025-07-07',\n",
       "   'type': 'Work',\n",
       "   'work_type': 'def/ep-document-types/CRE_PLENARY',\n",
       "   'identifier': 'CRE-10-2025-07-07',\n",
       "   'label': 'P10_CRE(2025)07-07'},\n",
       "  {'id': 'eli/dl/doc/CRE-10-2025-07-08',\n",
       "   'type': 'Work',\n",
       "   'work_type': 'def/ep-document-types/CRE_PLENARY',\n",
       "   'identifier': 'CRE-10-2025-07-08',\n",
       "   'label': 'P10_CRE(2025)07-08'},\n",
       "  {'id': 'eli/dl/doc/CRE-10-2025-07-09',\n",
       "   'type': 'Work',\n",
       "   'work_type': 'def/ep-document-types/CRE_PLENARY',\n",
       "   'identifier': 'CRE-10-2025-07-09',\n",
       "   'label': 'P10_CRE(2025)07-09'},\n",
       "  {'id': 'eli/dl/doc/CRE-10-2025-07-10',\n",
       "   'type': 'Work',\n",
       "   'work_type': 'def/ep-document-types/CRE_PLENARY',\n",
       "   'identifier': 'CRE-10-2025-07-10',\n",
       "   'label': 'P10_CRE(2025)07-10'},\n",
       "  {'id': 'eli/dl/doc/CRE-10-2025-09-08',\n",
       "   'type': 'Work',\n",
       "   'work_type': 'def/ep-document-types/CRE_PLENARY',\n",
       "   'identifier': 'CRE-10-2025-09-08',\n",
       "   'label': 'P10_CRE(2025)09-08'},\n",
       "  {'id': 'eli/dl/doc/CRE-10-2025-09-09',\n",
       "   'type': 'Work',\n",
       "   'work_type': 'def/ep-document-types/CRE_PLENARY',\n",
       "   'identifier': 'CRE-10-2025-09-09',\n",
       "   'label': 'P10_CRE(2025)09-09'},\n",
       "  {'id': 'eli/dl/doc/CRE-10-2025-09-10',\n",
       "   'type': 'Work',\n",
       "   'work_type': 'def/ep-document-types/CRE_PLENARY',\n",
       "   'identifier': 'CRE-10-2025-09-10',\n",
       "   'label': 'P10_CRE(2025)09-10'},\n",
       "  {'id': 'eli/dl/doc/CRE-10-2025-09-11',\n",
       "   'type': 'Work',\n",
       "   'work_type': 'def/ep-document-types/CRE_PLENARY',\n",
       "   'identifier': 'CRE-10-2025-09-11',\n",
       "   'label': 'P10_CRE(2025)09-11'},\n",
       "  {'id': 'eli/dl/doc/CRE-9-2019-10-23',\n",
       "   'type': 'Work',\n",
       "   'work_type': 'def/ep-document-types/CRE_PLENARY',\n",
       "   'identifier': 'CRE-9-2019-10-23',\n",
       "   'label': 'P9_CRE(2019)10-23'},\n",
       "  {'id': 'eli/dl/doc/CRE-9-2019-10-24',\n",
       "   'type': 'Work',\n",
       "   'work_type': 'def/ep-document-types/CRE_PLENARY',\n",
       "   'identifier': 'CRE-9-2019-10-24',\n",
       "   'label': 'P9_CRE(2019)10-24'},\n",
       "  {'id': 'eli/dl/doc/CRE-9-2020-01-16',\n",
       "   'type': 'Work',\n",
       "   'work_type': 'def/ep-document-types/CRE_PLENARY',\n",
       "   'identifier': 'CRE-9-2020-01-16',\n",
       "   'label': 'P9_CRE(2020)01-16'}],\n",
       " '@context': [{'data': '@graph', '@base': 'https://data.europarl.europa.eu/'},\n",
       "  'https://data.europarl.europa.eu/api/v2/context.jsonld']}"
      ]
     },
     "execution_count": 4,
     "metadata": {},
     "output_type": "execute_result"
    }
   ],
   "source": [
    "url = 'https://data.europarl.europa.eu/api/v2/plenary-session-documents'\n",
    "\n",
    "params = {\n",
    "    'work-type': 'CRE_PLENARY',\n",
    "    'limit': 25,\n",
    "    'offset':40,\n",
    "    'format':\"application/ld+json\"\n",
    "}\n",
    "response = requests.get(url, params=params).json()\n",
    "response"
   ]
  },
  {
   "cell_type": "code",
   "execution_count": 5,
   "id": "feae0e0d",
   "metadata": {},
   "outputs": [
    {
     "data": {
      "text/plain": [
       "'CRE-9-2020-01-16'"
      ]
     },
     "execution_count": 5,
     "metadata": {},
     "output_type": "execute_result"
    }
   ],
   "source": [
    "response['data'][-1]['identifier']"
   ]
  },
  {
   "cell_type": "code",
   "execution_count": 6,
   "id": "b8f381a4",
   "metadata": {},
   "outputs": [
    {
     "name": "stdout",
     "output_type": "stream",
     "text": [
      "['CRE-10-2025-03-31', 'CRE-10-2025-04-01', 'CRE-10-2025-04-02', 'CRE-10-2025-04-03', 'CRE-10-2025-05-05', 'CRE-10-2025-05-06', 'CRE-10-2025-05-07', 'CRE-10-2025-05-08', 'CRE-10-2025-05-21', 'CRE-10-2025-05-22', 'CRE-10-2025-06-16', 'CRE-10-2025-06-17', 'CRE-10-2025-06-18', 'CRE-10-2025-06-19', 'CRE-10-2025-07-07', 'CRE-10-2025-07-08', 'CRE-10-2025-07-09', 'CRE-10-2025-07-10', 'CRE-10-2025-09-08', 'CRE-10-2025-09-09', 'CRE-10-2025-09-10', 'CRE-10-2025-09-11', 'CRE-9-2019-10-23', 'CRE-9-2019-10-24', 'CRE-9-2020-01-16']\n"
     ]
    }
   ],
   "source": [
    "id_list = []\n",
    "for i in range(len(response['data'])):\n",
    "    id_list.append(response['data'][i]['identifier'])\n",
    "\n",
    "print(id_list)"
   ]
  },
  {
   "cell_type": "markdown",
   "id": "913307d0",
   "metadata": {},
   "source": [
    "## Extract the PDF or XML with the help of the identifier."
   ]
  },
  {
   "cell_type": "code",
   "execution_count": 7,
   "id": "95a75447",
   "metadata": {},
   "outputs": [],
   "source": [
    "url_ep = f'https://www.europarl.europa.eu/doceo/document/{id_list[-3]+\"_EN\"}.pdf'"
   ]
  },
  {
   "cell_type": "code",
   "execution_count": 8,
   "id": "21653751",
   "metadata": {},
   "outputs": [],
   "source": [
    "for id in id_list:\n",
    "    url_ep = f'https://www.europarl.europa.eu/doceo/document/{id+\"_EN\"}.pdf'\n",
    "    resp = requests.get(url_ep)\n",
    "    with open(f'EP/{id}_EN.pdf', 'wb') as f:\n",
    "        f.write(resp.content)"
   ]
  },
  {
   "cell_type": "code",
   "execution_count": 9,
   "id": "3448c3dc",
   "metadata": {},
   "outputs": [
    {
     "data": {
      "text/plain": [
       "'https://www.europarl.europa.eu/doceo/document/CRE-9-2020-01-16_EN.pdf'"
      ]
     },
     "execution_count": 9,
     "metadata": {},
     "output_type": "execute_result"
    }
   ],
   "source": [
    "url_ep"
   ]
  },
  {
   "cell_type": "markdown",
   "id": "42e96ae1",
   "metadata": {},
   "source": [
    "## Store all the documents in a chroma vector store"
   ]
  },
  {
   "cell_type": "code",
   "execution_count": 10,
   "id": "5153cf21",
   "metadata": {},
   "outputs": [
    {
     "name": "stderr",
     "output_type": "stream",
     "text": [
      "WARNING: All log messages before absl::InitializeLog() is called are written to STDERR\n",
      "E0000 00:00:1759240613.318100  243198 alts_credentials.cc:93] ALTS creds ignored. Not running on GCP and untrusted ALTS is not enabled.\n",
      "E0000 00:00:1759240613.322498  243198 alts_credentials.cc:93] ALTS creds ignored. Not running on GCP and untrusted ALTS is not enabled.\n"
     ]
    }
   ],
   "source": [
    "from langchain_google_genai import GoogleGenerativeAIEmbeddings\n",
    "\n",
    "embeddings = GoogleGenerativeAIEmbeddings(model=\"models/text-embedding-004\")"
   ]
  },
  {
   "cell_type": "code",
   "execution_count": 11,
   "id": "da1bc009",
   "metadata": {},
   "outputs": [],
   "source": [
    "from langchain_community.document_loaders import PyPDFLoader\n",
    "file_path = f'data/{id_list[0]}.pdf'\n",
    "loader = PyPDFLoader('metadata.pdf')\n",
    "pages = []\n",
    "for page in loader.lazy_load():\n",
    "    pages.append(page)"
   ]
  },
  {
   "cell_type": "code",
   "execution_count": 12,
   "id": "a8ac8da9",
   "metadata": {},
   "outputs": [
    {
     "data": {
      "text/plain": [
       "'2024-2029\\nПЪЛЕН ПРОТОКОЛ НА РАЗИСКВАНИЯТА DEBAŠU STENOGRAMMA\\nACTA LITERAL DE LOS DEBATES POSĖDŽIO STENOGRAMA\\nDOSLOVNÝ ZÁZNAM ZE ZASEDÁNÍ AZ ÜLÉSEK SZÓ SZERINTI JEGYZŐKÖNYVE\\nFULDSTÆNDIGT FORHANDLINGSREFERAT RAPPORTI VERBATIM TAD-DIBATTITI\\nAUSFÜHRLICHE SITZUNGSBERICHTE VOLLEDIG VERSLAG VAN DE VERGADERINGEN\\nISTUNGI STENOGRAMM PEŁNE SPRAWOZDANIE Z OBRAD\\nΠΛΗΡΗ ΠΡΑΚΤΙΚΑ ΤΩΝ ΣΥΖΗΤΗΣΕΩΝ RELATO INTEGRAL DOS DEBATES\\nVERBATIM REPORT OF PROCEEDINGS STENOGRAMA DEZBATERILOR\\nCOMPTE RENDU IN EXTENSO DES DÉBATS DOSLOVNÝ ZÁPIS Z ROZPRÁV\\nTUARASCÁIL FOCAL AR FHOCAL NA N-IMEACHTAÍ DOBESEDNI ZAPISI RAZPRAV\\nDOSLOVNO IZVJEŠĆE SANATARKAT ISTUNTOSELOSTUKSET\\nRESOCONTO INTEGRALE DELLE DISCUSSIONI FULLSTÄNDIGT FÖRHANDLINGSREFERAT\\nЧетвъртък - jueves - Čtvrtek - torsdag - Donnerstag - neljapäev - Πέμπτη - Thursday\\njeudi - Déardaoin - četvrtak - giovedì - ceturtdiena - Ketvirtadienis - csütörtök - Il-Ħamis\\ndonderdag - czwartek - Quinta-feira - joi - Štvrtok - Četrtek - torstai - torsdag\\n10.07.2025\\nЕдинство в многообразието - Unida en la diversidad - Jednotná v rozmanitosti - Forenet i mangfoldighed - In Vielfalt geeint - Ühinenud mitmekesisuses\\nEνωμένη στην πολυμορφία - United in diversity - Unie dans la diversité - Aontaithe san éagsúlacht - Ujedinjena u raznolikosti - Unita nella diversità\\nVienoti daudzveidībā - Suvienijusi įvairovę - Egyesülve a sokféleségben - Magħquda fid-diversità - In verscheidenheid verenigd - Zjednoczona w różnorodności\\nUnida na diversidade - Unită în diversitate - Zjednotení v rozmanitosti - Združena v raznolikosti - Moninaisuudessaan yhtenäinen - Förenade i mångfalden\\nРедактирана версия - Edición revisada - Revidované vydání - Revideret udgave - Überprüfte Ausgabe - Uuendatud versioon\\nΑναθεωρημένη έκδοση - Revised edition - Edition révisée - Eagrán athbhreithnithe - Revidirano izdanje - Edizione rivista\\nPārskatītā redakcija - Atnaujinta informacija - Lektorált változat - Edizzjoni riveduta - Herziene uitgave - Wersja poprawiona\\nEdição revista - Ediţie revizuită - Revidované vydanie - Pregledana izdaja - Lopullinen versio - Reviderad upplaga'"
      ]
     },
     "execution_count": 12,
     "metadata": {},
     "output_type": "execute_result"
    }
   ],
   "source": [
    "pages[0].page_content"
   ]
  },
  {
   "cell_type": "code",
   "execution_count": 13,
   "id": "798afe3d",
   "metadata": {},
   "outputs": [],
   "source": [
    "# Import the necessary libraries\n",
    "from langchain_text_splitters import RecursiveCharacterTextSplitter\n",
    "from langchain_chroma import Chroma\n",
    "from langchain import hub\n",
    "import getpass\n",
    "import os"
   ]
  },
  {
   "cell_type": "code",
   "execution_count": 14,
   "id": "07823e2d",
   "metadata": {},
   "outputs": [],
   "source": [
    "vector_store_c = Chroma(\n",
    "    collection_name=\"EU_parliament\",\n",
    "    embedding_function=embeddings,\n",
    "    persist_directory=\"./chroma_ep_follower\",\n",
    ")"
   ]
  },
  {
   "cell_type": "code",
   "execution_count": 15,
   "id": "cb42d252",
   "metadata": {},
   "outputs": [
    {
     "name": "stdout",
     "output_type": "stream",
     "text": [
      "31 3 2025 2025-03-31\n"
     ]
    }
   ],
   "source": [
    "session_date = id_list[0][-10:]\n",
    "session_year = int(session_date[:4])\n",
    "session_month = int(session_date[5:7])\n",
    "session_day = int(session_date[-2:])\n",
    "print(session_day, session_month, session_year, session_date)"
   ]
  },
  {
   "cell_type": "code",
   "execution_count": 16,
   "id": "67c533c9",
   "metadata": {},
   "outputs": [],
   "source": [
    "def embed_and_store_fancy(file_path, vector_store, session_date):\n",
    "    \"\"\"Load a PDF file, split it into chunks, and store the chunks in a vector store.\n",
    "    Session_date is added to the metadata of each chunk.\"\"\"\n",
    "\n",
    "\n",
    "    # Load the PDF file as a single document\n",
    "    loader = PyPDFLoader(file_path, mode='single')\n",
    "    pdf_text = loader.load()\n",
    "\n",
    "    # Create a text splitter instance\n",
    "    text_splitter = RecursiveCharacterTextSplitter(\n",
    "        chunk_size=2_000,  # chunk size (characters)\n",
    "        chunk_overlap=400,  # chunk overlap (characters)\n",
    "        add_start_index=True,  # track index in original document\n",
    "    )\n",
    "\n",
    "    # Split the document into smaller chunks\n",
    "    all_splits = text_splitter.transform_documents(pdf_text)\n",
    "\n",
    "    session_year = int(session_date[:4])\n",
    "    session_month = int(session_date[5:7])\n",
    "    session_day = int(session_date[-2:])\n",
    "\n",
    "    # Add the session_date to the metadata\n",
    "    for split in all_splits:\n",
    "        split.metadata['session_day'] = session_day\n",
    "        split.metadata['session_month'] = session_month\n",
    "        split.metadata['session_year'] = session_year\n",
    "\n",
    "    # Add the chunks to the vector store\n",
    "    document_ids = vector_store.add_documents(documents=all_splits)\n",
    "\n",
    "    return document_ids"
   ]
  },
  {
   "cell_type": "code",
   "execution_count": 17,
   "id": "4cf216b6",
   "metadata": {},
   "outputs": [
    {
     "data": {
      "text/plain": [
       "['CRE-10-2025-03-31',\n",
       " 'CRE-10-2025-04-01',\n",
       " 'CRE-10-2025-04-02',\n",
       " 'CRE-10-2025-04-03',\n",
       " 'CRE-10-2025-05-05',\n",
       " 'CRE-10-2025-05-06',\n",
       " 'CRE-10-2025-05-07',\n",
       " 'CRE-10-2025-05-08',\n",
       " 'CRE-10-2025-05-21',\n",
       " 'CRE-10-2025-05-22',\n",
       " 'CRE-10-2025-06-16',\n",
       " 'CRE-10-2025-06-17',\n",
       " 'CRE-10-2025-06-18',\n",
       " 'CRE-10-2025-06-19',\n",
       " 'CRE-10-2025-07-07',\n",
       " 'CRE-10-2025-07-08',\n",
       " 'CRE-10-2025-07-09',\n",
       " 'CRE-10-2025-07-10',\n",
       " 'CRE-10-2025-09-08',\n",
       " 'CRE-10-2025-09-09',\n",
       " 'CRE-10-2025-09-10',\n",
       " 'CRE-10-2025-09-11',\n",
       " 'CRE-9-2019-10-23',\n",
       " 'CRE-9-2019-10-24',\n",
       " 'CRE-9-2020-01-16']"
      ]
     },
     "execution_count": 17,
     "metadata": {},
     "output_type": "execute_result"
    }
   ],
   "source": [
    "id_list"
   ]
  },
  {
   "cell_type": "markdown",
   "id": "f0d0bf2b",
   "metadata": {},
   "source": [
    "### Idea: Extract the dates from the ID, and insert filtering here, retaining only interesting sessions in the db"
   ]
  },
  {
   "cell_type": "code",
   "execution_count": 18,
   "id": "5d639ac0",
   "metadata": {},
   "outputs": [],
   "source": [
    "for id in id_list:\n",
    "    sess_date = id[-10:]\n",
    "    file_path = f'EP/{id}_EN.pdf'\n",
    "    embed_and_store_fancy(file_path, vector_store_c, sess_date)\n",
    "\n",
    "# embed_and_store_fancy('EP/CRE-10-2025-03-31_EN.pdf', vector_store_c, session_date=\"2025-03-31\")"
   ]
  },
  {
   "cell_type": "markdown",
   "id": "2f21f689",
   "metadata": {},
   "source": [
    "## Use a LLM to query our chroma vector store"
   ]
  },
  {
   "cell_type": "code",
   "execution_count": 19,
   "id": "3c0d25aa",
   "metadata": {},
   "outputs": [
    {
     "name": "stderr",
     "output_type": "stream",
     "text": [
      "E0000 00:00:1759241212.749692  243198 alts_credentials.cc:93] ALTS creds ignored. Not running on GCP and untrusted ALTS is not enabled.\n"
     ]
    }
   ],
   "source": [
    "import getpass\n",
    "import os\n",
    "\n",
    "if not os.environ.get(\"GOOGLE_API_KEY\"):\n",
    "  os.environ[\"GOOGLE_API_KEY\"] = getpass.getpass(\"Enter API key for Google Gemini: \")\n",
    "\n",
    "from langchain.chat_models import init_chat_model\n",
    "\n",
    "model = init_chat_model(\"gemini-2.0-flash\", model_provider=\"google_genai\")"
   ]
  },
  {
   "cell_type": "code",
   "execution_count": 27,
   "id": "c9a7a2a1",
   "metadata": {},
   "outputs": [],
   "source": [
    "def answer_filtered(query, vector_store, llm, prompt_template=None, session_year = 2025, session_month = None):\n",
    "    \"\"\"Answer a query using the vector store and the language model.\"\"\"\n",
    "    # Retrieve similar documents from the vector store\n",
    "    if session_month:\n",
    "        filter = {\"$and\":[{\"session_year\": {\"$eq\": session_year}},\n",
    "                  {\"session_month\": {\"$eq\": session_month}}]\n",
    "                }\n",
    "        retrieved_docs = vector_store.similarity_search(query, k=6, filter=filter)\n",
    "    else:\n",
    "        filter = {\"session_year\": session_year}\n",
    "        retrieved_docs = vector_store.similarity_search(query, k=6, filter=filter)\n",
    "\n",
    "    # Create the prompt\n",
    "    docs_content = \"\\n\\n\".join(doc.page_content for doc in retrieved_docs)\n",
    "\n",
    "    # If no prompt template is provided, use the default one\n",
    "    if not prompt_template:\n",
    "        prompt_template = hub.pull(\"rlm/rag-prompt\")\n",
    "\n",
    "    prompt = prompt_template.invoke(\n",
    "        {\"context\": docs_content, \"question\": query}\n",
    "    )\n",
    "\n",
    "    # Get the answer from the language model\n",
    "    answer = llm.invoke(prompt)\n",
    "\n",
    "    return answer.content"
   ]
  },
  {
   "cell_type": "code",
   "execution_count": 31,
   "id": "e7ed30a6",
   "metadata": {},
   "outputs": [
    {
     "data": {
      "text/plain": [
       "'The discussion emphasizes the importance of water resilience, addressing both quantity and quality. Participants highlighted the need to protect water quality from pollution, including \"forever chemicals\" like PFAS. There\\'s also a call for stronger enforcement against pollution and updating standards to reflect current realities.'"
      ]
     },
     "execution_count": 31,
     "metadata": {},
     "output_type": "execute_result"
    }
   ],
   "source": [
    "query = \"Summarize the discussion on water quality\"\n",
    "answer_filtered(query, vector_store_c, model)"
   ]
  }
 ],
 "metadata": {
  "kernelspec": {
   "display_name": "summ_EU",
   "language": "python",
   "name": "python3"
  },
  "language_info": {
   "codemirror_mode": {
    "name": "ipython",
    "version": 3
   },
   "file_extension": ".py",
   "mimetype": "text/x-python",
   "name": "python",
   "nbconvert_exporter": "python",
   "pygments_lexer": "ipython3",
   "version": "3.12.9"
  }
 },
 "nbformat": 4,
 "nbformat_minor": 5
}
